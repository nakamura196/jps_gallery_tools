{
 "cells": [
  {
   "cell_type": "markdown",
   "metadata": {},
   "source": [
    "# Japan Search Gallery client\n",
    "\n",
    "> Tools to interact with the Japan Search Gallery"
   ]
  },
  {
   "cell_type": "code",
   "execution_count": 1000,
   "metadata": {},
   "outputs": [],
   "source": [
    "#| default_exp api"
   ]
  },
  {
   "cell_type": "code",
   "execution_count": 1001,
   "metadata": {},
   "outputs": [],
   "source": [
    "#| hide\n",
    "from nbdev.showdoc import *"
   ]
  },
  {
   "cell_type": "code",
   "execution_count": 1002,
   "metadata": {},
   "outputs": [],
   "source": [
    "#| export\n",
    "from pprint import pprint\n",
    "import os\n",
    "import json\n",
    "import base64\n",
    "import time"
   ]
  },
  {
   "cell_type": "code",
   "execution_count": 1003,
   "metadata": {},
   "outputs": [],
   "source": [
    "#| export\n",
    "\n",
    "class Component:\n",
    "\n",
    "    item = {\n",
    "        \"parts\": []\n",
    "    }\n",
    "    \n",
    "    def export(self):\n",
    "        '''\n",
    "        エクスポート\n",
    "\n",
    "        Returns:  \n",
    "        * dict containing representation of the gallery\n",
    "        '''\n",
    "        return self.item\n",
    "\n",
    "    def setLangMetadata(self, key, lang, value):\n",
    "        '''\n",
    "        メタデータの設定\n",
    "\n",
    "        Parameters:  \n",
    "        * `key` - title, description, etc...  \n",
    "        * `lang` - one of 言語, eg: 'ja', 'en', 'yomi'  \n",
    "        * `value` - 値\n",
    "        '''\n",
    "        item = self.item\n",
    "        if key not in item:\n",
    "            item[key] = {}\n",
    "        item[key][lang] = value\n",
    "\n",
    "    def setMetadata(self, key, data):\n",
    "        self.item[key] = data\n",
    "\n",
    "    def addPart(self, part):\n",
    "        '''\n",
    "        パーツの追加\n",
    "        \n",
    "        Parameters:\n",
    "        * `part` - パーツ        \n",
    "        '''\n",
    "        item = self.item\n",
    "        if 'parts' not in item:\n",
    "            item['parts'] = []\n",
    "        item[\"parts\"].append(part.export())  \n",
    "\n",
    "class Media(Component):\n",
    "\n",
    "    def __init__(self, type, title, source):\n",
    "        self.item = {\n",
    "            \"imgType\": type,\n",
    "            \"cover\": None,\n",
    "            \"sourceUrl\": None,\n",
    "            \"title\": {\n",
    "                \"ja\": title\n",
    "            },\n",
    "            \"source\": {\n",
    "                \"ja\": source\n",
    "            },\n",
    "            \"contentsRightsType\": \"various\",\n",
    "        }\n",
    "\n",
    "class JpsCurationIIIFImage(Media):\n",
    "    def __init__(self, manifestUrl, infoJsonUrl, title, source, xywh=None):\n",
    "        super().__init__(\"IIIF\", title, source)\n",
    "\n",
    "        item = self.item\n",
    "        item[\"cover\"] = None\n",
    "        item[\"sourceUrl\"] = None\n",
    "        item[\"manifestUrl\"] = manifestUrl\n",
    "        item[\"infoJsonUrl\"] = infoJsonUrl\n",
    "\n",
    "        if xywh is not None:\n",
    "            spl = xywh.split(',')\n",
    "            item[\"x\"] = int(spl[0])\n",
    "            item[\"y\"] = int(spl[1])\n",
    "            item[\"w\"] = int(spl[2])\n",
    "            item[\"h\"] = int(spl[3])\n",
    "\n",
    "class JpsCurationUrlImage(Media):\n",
    "    \"\"\"\n",
    "    URLを指定して表示する画像に関するクラス\n",
    "    \"\"\"\n",
    "\n",
    "    def __init__(self, url, title, source, thumbnailUrl=None):\n",
    "        \"\"\"\n",
    "        初期化\n",
    "\n",
    "        Parameters:  \n",
    "        * `url` - 画像URL  \n",
    "        * `title` - 日本語のタイトル  \n",
    "        * `source` - 日本語の出典  \n",
    "        * `thumbnailUrl` - サムネイルURL\n",
    "        \"\"\"\n",
    "        super().__init__(\"URL\", title, source)\n",
    "\n",
    "        item = self.item\n",
    "\n",
    "        item[\"url\"] = url\n",
    "        if thumbnailUrl is not None:\n",
    "            item[\"thumbnailUrl\"] = thumbnailUrl\n",
    "\n",
    "\n",
    "\n",
    "class Part(Component):\n",
    "\n",
    "    def __init__(self, type, viewType=None): # , viewType\n",
    "        item = {}\n",
    "        self.item = item\n",
    "        # item[\"cpid\"] = \"a\"\n",
    "        item[\"type\"] = type\n",
    "\n",
    "        if viewType is not None:\n",
    "            item[\"viewType\"] = viewType\n",
    "\n",
    "    def addText(self, lang, value):\n",
    "        '''\n",
    "        opsに要素を追加します。\n",
    "\n",
    "        Parameters:  \n",
    "        * `lang` - one of 言語, eg: 'ja', 'en', 'yomi'  \n",
    "        * `value` - 値\n",
    "        '''\n",
    "        item = self.item\n",
    "\n",
    "        ops = item[lang][\"ops\"]\n",
    "        ops.append({\n",
    "            \"insert\": value\n",
    "        })\n",
    "        ops.append({\n",
    "            \"insert\": \"\\n\"\n",
    "        })\n",
    "\n",
    "    def setUrl(self, url):\n",
    "        '''\n",
    "        外部リンクのURLを設定します。\n",
    "\n",
    "        Parameters:  \n",
    "        * `url` - 外部リンクのURL\n",
    "        '''\n",
    "        self.item[\"url\"] = url \n",
    "\n",
    "    def setImage(self, image):\n",
    "        self.item[\"image\"] = image.export()\n",
    "\n",
    "class JpsCurationListExternalLink(Part):\n",
    "    '''\n",
    "    ListExternalLink\n",
    "    '''\n",
    "    \n",
    "    def __init__(self):\n",
    "        '''\n",
    "        初期化\n",
    "        '''\n",
    "        super().__init__(\"jps-curation-list-external-link\")\n",
    "\n",
    "class JpsCurationTimeline(Part):\n",
    "    '''\n",
    "    Timeline\n",
    "    '''\n",
    "    \n",
    "    def __init__(self, start, end, layout=\"bar\"):\n",
    "        '''\n",
    "        初期化\n",
    "        '''\n",
    "        super().__init__(\"jps-curation-timeline\")\n",
    "\n",
    "        item = self.item\n",
    "        item[\"timeline\"] = {\n",
    "            \"start\": start,\n",
    "            \"end\": end,\n",
    "        }\n",
    "        item[\"layout\"] = layout\n",
    "\n",
    "class JpsCurationTimepoint(Part):\n",
    "    '''\n",
    "    Timepoint\n",
    "    '''\n",
    "    \n",
    "    def __init__(self, name_ja, name_en, start, end, startFraction=0, endFraction=0, labelHeight=1):\n",
    "        '''\n",
    "        初期化\n",
    "        '''\n",
    "        super().__init__(\"jps-curation-timepoint\")\n",
    "\n",
    "        item = self.item\n",
    "        item[\"time\"] = {\n",
    "            \"name\": {\n",
    "                \"ja\": name_ja,\n",
    "                \"en\": name_en,\n",
    "            },\n",
    "            \"start\": start,\n",
    "            \"end\": end,\n",
    "            \"startFraction\": startFraction,\n",
    "            \"endFraction\": endFraction,\n",
    "            \"labelHeight\": labelHeight\n",
    "        }\n",
    "\n",
    "class JpsCurationText(Part):\n",
    "    '''\n",
    "    Text\n",
    "    '''\n",
    "    \n",
    "    def __init__(self):\n",
    "        '''\n",
    "        初期化\n",
    "        '''\n",
    "        super().__init__(\"jps-curation-text\")\n",
    "\n",
    "        item = self.item\n",
    "        item[\"ja\"] = {\n",
    "            \"ops\": []\n",
    "        }\n",
    "\n",
    "        item[\"en\"] = {\n",
    "            \"ops\": []\n",
    "        }\n",
    "\n",
    "class JpsCurationList(Part):\n",
    "    '''\n",
    "    リストパーツ\n",
    "    '''\n",
    "    def __init__(self, viewType):\n",
    "        '''\n",
    "        初期化\n",
    "\n",
    "        Parameters:  \n",
    "        * `viewType` - レイアウト, eg: 'tile', 'table', etc...\n",
    "        '''\n",
    "        # super().__init__(\"list\") # , viewType\n",
    "        super().__init__(\"jps-curation-list\") # , viewType\n",
    "\n",
    "        item = self.item\n",
    "        item[\"viewType\"] = viewType\n",
    "\n",
    "class JpsCuration(Part):\n",
    "\n",
    "    def __init__(self, curationType=\"GALLERY\", version=1, rightsType=\"ccby\"):\n",
    "        date = int(time.time() * 1000) \n",
    "        item = {\n",
    "            \"version\": version,\n",
    "            \"title\": {},\n",
    "            \"summary\": {},\n",
    "            \"responsibility\": {},\n",
    "            \"workspaceTags\": [],\n",
    "            \"permission\": {},\n",
    "            \"edit\": {\n",
    "                # \"userId\": \"system\",\n",
    "                # \"orgId\": \"jpsws\",\n",
    "                \"date\": date,\n",
    "                \"action\": \"CREATE\"\n",
    "            },\n",
    "            \"parts\": [],\n",
    "            \"rights\": {},\n",
    "            \"rightsType\": rightsType,\n",
    "            \"curationType\": curationType,\n",
    "        }\n",
    "        self.item = item\n",
    "\n",
    "    def setTheme(self, theme):\n",
    "        self.item[\"theme\"] = theme\n",
    "\n",
    "    def addTag(self, tag):\n",
    "        '''\n",
    "        タグを追加します。\n",
    "\n",
    "        Parameters:  \n",
    "        * `tag` - タグ\n",
    "        '''\n",
    "        item = self.item\n",
    "        item[\"workspaceTags\"].append(tag)\n",
    "\n",
    "    def saveJsonl(self, path):\n",
    "        '''\n",
    "        JSONLファイルの保存\n",
    "\n",
    "        Parameters:  \n",
    "        * `path` - 出力先のパス\n",
    "        '''\n",
    "\n",
    "        arr = []\n",
    "        arr.append(json.dumps(self.item, ensure_ascii=False))\n",
    "\n",
    "        os.makedirs(os.path.dirname(path), exist_ok=True)\n",
    "        with open(path, mode='w') as f:\n",
    "            f.write(\"\\n\".join(arr))\n",
    "\n",
    "    def save(self, path):\n",
    "        '''\n",
    "        JSONファイルの保存\n",
    "\n",
    "        Parameters:  \n",
    "        * `path` - 出力先のパス\n",
    "        '''\n",
    "        os.makedirs(os.path.dirname(path), exist_ok=True)\n",
    "        with open(path, 'w') as f:\n",
    "            json.dump(self.item, f, ensure_ascii=False, indent=2)\n",
    "\n",
    "    def encode(self, curationType=\"NOTE\"):\n",
    "        '''\n",
    "        Base64エンコード\n",
    "\n",
    "        Returns:  \n",
    "        * str containing Base64 encoded representation of the gallery\n",
    "        '''\n",
    "        item = self.item\n",
    "        item[\"curationType\"] = curationType\n",
    "        json_string = json.dumps(item)\n",
    "        return base64.b64encode(json_string.encode('utf-8')).decode('utf-8')"
   ]
  },
  {
   "cell_type": "markdown",
   "metadata": {},
   "source": [
    "First import the JPSGalleryClient class.\n",
    "```\n",
    "from jps_gallery_tools.api import JPSGalleryClient\n",
    "```\n",
    "To initialise the JPSGalleryClient you need to provide the base url of your Omeka instance's API."
   ]
  },
  {
   "cell_type": "code",
   "execution_count": 1004,
   "metadata": {},
   "outputs": [],
   "source": [
    "gallery = JpsCuration()"
   ]
  },
  {
   "cell_type": "markdown",
   "metadata": {},
   "source": [
    "## ギャラリーのメタデータの設定\n",
    "\n",
    "ギャラリーのメタデータを設定します。"
   ]
  },
  {
   "cell_type": "code",
   "execution_count": 1005,
   "metadata": {},
   "outputs": [
    {
     "data": {
      "text/markdown": [
       "---\n",
       "\n",
       "### Component.setLangMetadata\n",
       "\n",
       ">      Component.setLangMetadata (key, lang, value)\n",
       "\n",
       "メタデータの設定\n",
       "\n",
       "Parameters:  \n",
       "* `key` - title, description, etc...  \n",
       "* `lang` - one of 言語, eg: 'ja', 'en', 'yomi'  \n",
       "* `value` - 値"
      ],
      "text/plain": [
       "---\n",
       "\n",
       "### Component.setLangMetadata\n",
       "\n",
       ">      Component.setLangMetadata (key, lang, value)\n",
       "\n",
       "メタデータの設定\n",
       "\n",
       "Parameters:  \n",
       "* `key` - title, description, etc...  \n",
       "* `lang` - one of 言語, eg: 'ja', 'en', 'yomi'  \n",
       "* `value` - 値"
      ]
     },
     "execution_count": 1005,
     "metadata": {},
     "output_type": "execute_result"
    }
   ],
   "source": [
    "show_doc(JpsCuration.setLangMetadata)"
   ]
  },
  {
   "cell_type": "markdown",
   "metadata": {},
   "source": [
    "タイトルの設定"
   ]
  },
  {
   "cell_type": "code",
   "execution_count": 1006,
   "metadata": {},
   "outputs": [],
   "source": [
    "gallery.setLangMetadata(\"title\", \"ja\", \"日本語タイトル\")\n",
    "gallery.setLangMetadata(\"title\", \"en\", \"English Title\")\n",
    "gallery.setLangMetadata(\"title\", \"yomi\", \"にほんごのよみ\")"
   ]
  },
  {
   "cell_type": "markdown",
   "metadata": {},
   "source": [
    "summaryの設定"
   ]
  },
  {
   "cell_type": "code",
   "execution_count": 1007,
   "metadata": {},
   "outputs": [],
   "source": [
    "gallery.setLangMetadata(\"summary\", \"ja\", \"日本語の概要文\")\n",
    "gallery.setLangMetadata(\"summary\", \"en\", \"English Summary\")"
   ]
  },
  {
   "cell_type": "markdown",
   "metadata": {},
   "source": [
    "responsibilityの設定"
   ]
  },
  {
   "cell_type": "code",
   "execution_count": 1008,
   "metadata": {},
   "outputs": [],
   "source": [
    "gallery.setLangMetadata(\"responsibility\", \"ja\", \"中村覚\")\n",
    "gallery.setLangMetadata(\"responsibility\", \"en\", \"Satoru Nakamura\")"
   ]
  },
  {
   "cell_type": "markdown",
   "metadata": {},
   "source": [
    "tagの設定"
   ]
  },
  {
   "cell_type": "code",
   "execution_count": 1009,
   "metadata": {},
   "outputs": [
    {
     "data": {
      "text/markdown": [
       "---\n",
       "\n",
       "### JpsCuration.addTag\n",
       "\n",
       ">      JpsCuration.addTag (tag)\n",
       "\n",
       "タグを追加します。\n",
       "\n",
       "Parameters:  \n",
       "* `tag` - タグ"
      ],
      "text/plain": [
       "---\n",
       "\n",
       "### JpsCuration.addTag\n",
       "\n",
       ">      JpsCuration.addTag (tag)\n",
       "\n",
       "タグを追加します。\n",
       "\n",
       "Parameters:  \n",
       "* `tag` - タグ"
      ]
     },
     "execution_count": 1009,
     "metadata": {},
     "output_type": "execute_result"
    }
   ],
   "source": [
    "show_doc(JpsCuration.addTag)"
   ]
  },
  {
   "cell_type": "code",
   "execution_count": 1010,
   "metadata": {},
   "outputs": [],
   "source": [
    "gallery.addTag(\"はじめてのタグ\")\n",
    "gallery.addTag(\"二つ目のタグ\")"
   ]
  },
  {
   "cell_type": "markdown",
   "metadata": {},
   "source": [
    "画像の設定"
   ]
  },
  {
   "cell_type": "code",
   "execution_count": 1011,
   "metadata": {},
   "outputs": [
    {
     "data": {
      "text/markdown": [
       "---\n",
       "\n",
       "### JpsCurationUrlImage\n",
       "\n",
       ">      JpsCurationUrlImage (url, title, source, thumbnailUrl=None)\n",
       "\n",
       "URLを指定して表示する画像に関するクラス"
      ],
      "text/plain": [
       "---\n",
       "\n",
       "### JpsCurationUrlImage\n",
       "\n",
       ">      JpsCurationUrlImage (url, title, source, thumbnailUrl=None)\n",
       "\n",
       "URLを指定して表示する画像に関するクラス"
      ]
     },
     "execution_count": 1011,
     "metadata": {},
     "output_type": "execute_result"
    }
   ],
   "source": [
    "show_doc(JpsCurationUrlImage)"
   ]
  },
  {
   "cell_type": "code",
   "execution_count": 1012,
   "metadata": {},
   "outputs": [],
   "source": [
    "original_url = \"https://blogger.googleusercontent.com/img/a/AVvXsEiTjjaWkCHeCslxeKujaQotjuR_HvhOHen7Ql7rQV8nmQl4ivLRF_CSabMY-JLJHNL-xHMe3VDyA9F-iv1RtQ2jFTk1Vnjck-veKLUZPdYqCcjzHkc8SGKb1fyZ_x8W66aTrSXQ78UN3CnyBakwwmmH_hmPKeEsTzq8J3e2zzUMylmDjCZ0LClPByBRRw=s400\"\n",
    "thumbnail_url = \"https://blogger.googleusercontent.com/img/a/AVvXsEiTjjaWkCHeCslxeKujaQotjuR_HvhOHen7Ql7rQV8nmQl4ivLRF_CSabMY-JLJHNL-xHMe3VDyA9F-iv1RtQ2jFTk1Vnjck-veKLUZPdYqCcjzHkc8SGKb1fyZ_x8W66aTrSXQ78UN3CnyBakwwmmH_hmPKeEsTzq8J3e2zzUMylmDjCZ0LClPByBRRw=s180-c\"\n",
    "title = \"初日の出のキャラクター\"\n",
    "source = \"いらすとや\"\n",
    "top_image = JpsCurationUrlImage(original_url, title, source, thumbnail_url)"
   ]
  },
  {
   "cell_type": "code",
   "execution_count": 1013,
   "metadata": {},
   "outputs": [
    {
     "data": {
      "text/markdown": [
       "---\n",
       "\n",
       "[source](https://github.com/nakamura196/jps_gallery_tools/blob/main/jps_gallery_tools/api.py#L187){target=\"_blank\" style=\"float:right; font-size:smaller\"}\n",
       "\n",
       "### Part.setImage\n",
       "\n",
       ">      Part.setImage (image)"
      ],
      "text/plain": [
       "---\n",
       "\n",
       "[source](https://github.com/nakamura196/jps_gallery_tools/blob/main/jps_gallery_tools/api.py#L187){target=\"_blank\" style=\"float:right; font-size:smaller\"}\n",
       "\n",
       "### Part.setImage\n",
       "\n",
       ">      Part.setImage (image)"
      ]
     },
     "execution_count": 1013,
     "metadata": {},
     "output_type": "execute_result"
    }
   ],
   "source": [
    "show_doc(JpsCuration.setImage)"
   ]
  },
  {
   "cell_type": "code",
   "execution_count": 1014,
   "metadata": {},
   "outputs": [],
   "source": [
    "gallery.setImage(top_image)"
   ]
  },
  {
   "cell_type": "markdown",
   "metadata": {},
   "source": [
    "## パーツの追加"
   ]
  },
  {
   "cell_type": "code",
   "execution_count": 1015,
   "metadata": {},
   "outputs": [
    {
     "data": {
      "text/markdown": [
       "---\n",
       "\n",
       "### JpsCurationList\n",
       "\n",
       ">      JpsCurationList (viewType)\n",
       "\n",
       "リストパーツ"
      ],
      "text/plain": [
       "---\n",
       "\n",
       "### JpsCurationList\n",
       "\n",
       ">      JpsCurationList (viewType)\n",
       "\n",
       "リストパーツ"
      ]
     },
     "execution_count": 1015,
     "metadata": {},
     "output_type": "execute_result"
    }
   ],
   "source": [
    "show_doc(JpsCurationList)"
   ]
  },
  {
   "cell_type": "code",
   "execution_count": 1016,
   "metadata": {},
   "outputs": [],
   "source": [
    "part = JpsCurationList(\"tile\")"
   ]
  },
  {
   "cell_type": "markdown",
   "metadata": {},
   "source": [
    "メタデータの追加"
   ]
  },
  {
   "cell_type": "code",
   "execution_count": 1017,
   "metadata": {},
   "outputs": [],
   "source": [
    "part.setLangMetadata(\"title\", \"ja\", \"リストのタイトル\")\n",
    "part.setLangMetadata(\"title\", \"en\", \"List Title\")"
   ]
  },
  {
   "cell_type": "markdown",
   "metadata": {},
   "source": [
    "リストに画像の追加"
   ]
  },
  {
   "cell_type": "code",
   "execution_count": 1018,
   "metadata": {},
   "outputs": [],
   "source": [
    "item = JpsCurationListExternalLink()"
   ]
  },
  {
   "cell_type": "code",
   "execution_count": 1019,
   "metadata": {},
   "outputs": [
    {
     "data": {
      "text/markdown": [
       "---\n",
       "\n",
       "[source](https://github.com/nakamura196/jps_gallery_tools/blob/main/jps_gallery_tools/api.py#L184){target=\"_blank\" style=\"float:right; font-size:smaller\"}\n",
       "\n",
       "### Part.setUrl\n",
       "\n",
       ">      Part.setUrl (url)\n",
       "\n",
       "外部リンクのURLを設定します。\n",
       "\n",
       "Parameters:  \n",
       "* `url` - 外部リンクのURL"
      ],
      "text/plain": [
       "---\n",
       "\n",
       "[source](https://github.com/nakamura196/jps_gallery_tools/blob/main/jps_gallery_tools/api.py#L184){target=\"_blank\" style=\"float:right; font-size:smaller\"}\n",
       "\n",
       "### Part.setUrl\n",
       "\n",
       ">      Part.setUrl (url)\n",
       "\n",
       "外部リンクのURLを設定します。\n",
       "\n",
       "Parameters:  \n",
       "* `url` - 外部リンクのURL"
      ]
     },
     "execution_count": 1019,
     "metadata": {},
     "output_type": "execute_result"
    }
   ],
   "source": [
    "show_doc(JpsCurationListExternalLink.setUrl)"
   ]
  },
  {
   "cell_type": "code",
   "execution_count": 1020,
   "metadata": {},
   "outputs": [],
   "source": [
    "item.setUrl(\"https://www.irasutoya.com/2021/11/blog-post_91.html\")"
   ]
  },
  {
   "cell_type": "markdown",
   "metadata": {},
   "source": [
    "アイテムの追加"
   ]
  },
  {
   "cell_type": "code",
   "execution_count": 1021,
   "metadata": {},
   "outputs": [
    {
     "data": {
      "text/markdown": [
       "---\n",
       "\n",
       "[source](https://github.com/nakamura196/jps_gallery_tools/blob/main/jps_gallery_tools/api.py#L53){target=\"_blank\" style=\"float:right; font-size:smaller\"}\n",
       "\n",
       "### Component.addPart\n",
       "\n",
       ">      Component.addPart (part)\n",
       "\n",
       "パーツの追加\n",
       "\n",
       "Parameters:\n",
       "* `part` - パーツ"
      ],
      "text/plain": [
       "---\n",
       "\n",
       "[source](https://github.com/nakamura196/jps_gallery_tools/blob/main/jps_gallery_tools/api.py#L53){target=\"_blank\" style=\"float:right; font-size:smaller\"}\n",
       "\n",
       "### Component.addPart\n",
       "\n",
       ">      Component.addPart (part)\n",
       "\n",
       "パーツの追加\n",
       "\n",
       "Parameters:\n",
       "* `part` - パーツ"
      ]
     },
     "execution_count": 1021,
     "metadata": {},
     "output_type": "execute_result"
    }
   ],
   "source": [
    "show_doc(JpsCurationList.addPart)"
   ]
  },
  {
   "cell_type": "code",
   "execution_count": 1022,
   "metadata": {},
   "outputs": [],
   "source": [
    "part.addPart(item)"
   ]
  },
  {
   "cell_type": "markdown",
   "metadata": {},
   "source": [
    "## Save json\n",
    "\n",
    "設定した内容をjsonファイルに出力します。"
   ]
  },
  {
   "cell_type": "code",
   "execution_count": 1023,
   "metadata": {},
   "outputs": [
    {
     "data": {
      "text/markdown": [
       "---\n",
       "\n",
       "### JpsCuration.save\n",
       "\n",
       ">      JpsCuration.save (path)\n",
       "\n",
       "JSONファイルの保存\n",
       "\n",
       "Parameters:  \n",
       "* `path` - 出力先のパス"
      ],
      "text/plain": [
       "---\n",
       "\n",
       "### JpsCuration.save\n",
       "\n",
       ">      JpsCuration.save (path)\n",
       "\n",
       "JSONファイルの保存\n",
       "\n",
       "Parameters:  \n",
       "* `path` - 出力先のパス"
      ]
     },
     "execution_count": 1023,
     "metadata": {},
     "output_type": "execute_result"
    }
   ],
   "source": [
    "show_doc(JpsCuration.save)"
   ]
  },
  {
   "cell_type": "code",
   "execution_count": 1024,
   "metadata": {},
   "outputs": [],
   "source": [
    "gallery.save(\"tmp/gallery.json\")"
   ]
  },
  {
   "cell_type": "code",
   "execution_count": 1025,
   "metadata": {},
   "outputs": [
    {
     "data": {
      "text/markdown": [
       "---\n",
       "\n",
       "### JpsCuration.saveJsonl\n",
       "\n",
       ">      JpsCuration.saveJsonl (path)\n",
       "\n",
       "JSONLファイルの保存\n",
       "\n",
       "Parameters:  \n",
       "* `path` - 出力先のパス"
      ],
      "text/plain": [
       "---\n",
       "\n",
       "### JpsCuration.saveJsonl\n",
       "\n",
       ">      JpsCuration.saveJsonl (path)\n",
       "\n",
       "JSONLファイルの保存\n",
       "\n",
       "Parameters:  \n",
       "* `path` - 出力先のパス"
      ]
     },
     "execution_count": 1025,
     "metadata": {},
     "output_type": "execute_result"
    }
   ],
   "source": [
    "show_doc(JpsCuration.saveJsonl)"
   ]
  },
  {
   "cell_type": "code",
   "execution_count": 1026,
   "metadata": {},
   "outputs": [],
   "source": [
    "gallery.saveJsonl(\"tmp/gallery.jsonl\")"
   ]
  },
  {
   "cell_type": "code",
   "execution_count": 1027,
   "metadata": {},
   "outputs": [
    {
     "data": {
      "text/markdown": [
       "---\n",
       "\n",
       "### JpsCuration.encode\n",
       "\n",
       ">      JpsCuration.encode (curationType='NOTE')\n",
       "\n",
       "Base64エンコード\n",
       "\n",
       "Returns:  \n",
       "* str containing Base64 encoded representation of the gallery"
      ],
      "text/plain": [
       "---\n",
       "\n",
       "### JpsCuration.encode\n",
       "\n",
       ">      JpsCuration.encode (curationType='NOTE')\n",
       "\n",
       "Base64エンコード\n",
       "\n",
       "Returns:  \n",
       "* str containing Base64 encoded representation of the gallery"
      ]
     },
     "execution_count": 1027,
     "metadata": {},
     "output_type": "execute_result"
    }
   ],
   "source": [
    "show_doc(JpsCuration.encode)"
   ]
  },
  {
   "cell_type": "code",
   "execution_count": 1028,
   "metadata": {},
   "outputs": [],
   "source": [
    "#| hide\n",
    "import nbdev; nbdev.nbdev_export()"
   ]
  }
 ],
 "metadata": {
  "kernelspec": {
   "display_name": "Python 3",
   "language": "python",
   "name": "python3"
  },
  "language_info": {
   "codemirror_mode": {
    "name": "ipython",
    "version": 3
   },
   "file_extension": ".py",
   "mimetype": "text/x-python",
   "name": "python",
   "nbconvert_exporter": "python",
   "pygments_lexer": "ipython3",
   "version": "3.9.12"
  },
  "vscode": {
   "interpreter": {
    "hash": "b835ebd1de181952a98845715e8eba418a34411a053b7739bf494afe420820a7"
   }
  }
 },
 "nbformat": 4,
 "nbformat_minor": 4
}
