{
 "cells": [
  {
   "cell_type": "markdown",
   "metadata": {},
   "source": [
    "# Japan Search Gallery client\n",
    "\n",
    "> Tools to interact with the Japan Search Gallery"
   ]
  },
  {
   "cell_type": "code",
   "execution_count": null,
   "metadata": {},
   "outputs": [],
   "source": [
    "#| default_exp api"
   ]
  },
  {
   "cell_type": "code",
   "execution_count": null,
   "metadata": {},
   "outputs": [],
   "source": [
    "#| hide\n",
    "from nbdev.showdoc import *"
   ]
  },
  {
   "cell_type": "code",
   "execution_count": null,
   "metadata": {},
   "outputs": [],
   "source": [
    "#| export\n",
    "from pprint import pprint\n",
    "import os\n",
    "import json\n",
    "\n",
    "class Component:\n",
    "    \n",
    "    def export(self):\n",
    "        '''\n",
    "        エクスポート\n",
    "\n",
    "        Returns:  \n",
    "        * dict containing representation of the gallery\n",
    "        '''\n",
    "        return self.item\n",
    "\n",
    "    def setMetadata(self, key, lang, value):\n",
    "        '''\n",
    "        メタデータの設定\n",
    "\n",
    "        Parameters:  \n",
    "        * `key` - title, description, etc...  \n",
    "        * `lang` - one of 言語, eg: 'ja', 'en', 'yomi'  \n",
    "        * `value` - 値\n",
    "        '''\n",
    "        item = self.item\n",
    "        if key not in item:\n",
    "            item[key] = {}\n",
    "        item[key][lang] = value\n",
    "\n",
    "\n",
    "    def save(self, path):\n",
    "        '''\n",
    "        JSONファイルの保存\n",
    "\n",
    "        Parameters:  \n",
    "        * `path` - 出力先のパス\n",
    "        '''\n",
    "        os.makedirs(os.path.dirname(path), exist_ok=True)\n",
    "        with open(path, 'w') as f:\n",
    "            json.dump(self.item, f, ensure_ascii=False, indent=2)\n",
    "\n",
    "class Media(Component):\n",
    "\n",
    "    def __init__(self, type, title, source):\n",
    "        self.item = {\n",
    "            \"imgType\": type,\n",
    "            \"cover\": None,\n",
    "            \"sourceUrl\": None,\n",
    "            \"title\": {\n",
    "                \"ja\": title\n",
    "            },\n",
    "            \"source\": {\n",
    "                \"ja\": source\n",
    "            },\n",
    "            \"contentsRightsType\": \"various\",\n",
    "        }\n",
    "\n",
    "class IIIF(Media):\n",
    "    def __init__(self, manifestUrl, infoJsonUrl, title, source):\n",
    "        super().__init__(\"IIIF\", title, source)\n",
    "\n",
    "        item = self.item\n",
    "        item[\"cover\"] = None\n",
    "        item[\"sourceUrl\"] = None\n",
    "        item[\"manifestUrl\"] = manifestUrl\n",
    "        item[\"infoJsonUrl\"] = infoJsonUrl\n",
    "\n",
    "class UrlImage(Media):\n",
    "    \"\"\"\n",
    "    URLを指定して表示する画像に関するクラス\n",
    "    \"\"\"\n",
    "\n",
    "    def __init__(self, url, title, source, thumbnailUrl=None):\n",
    "        \"\"\"\n",
    "        初期化\n",
    "\n",
    "        Parameters:  \n",
    "        * `url` - 画像URL  \n",
    "        * `title` - 日本語のタイトル  \n",
    "        * `source` - 日本語の出典  \n",
    "        * `thumbnailUrl` - サムネイルURL\n",
    "        \"\"\"\n",
    "        super().__init__(\"URL\", title, source)\n",
    "\n",
    "        item = self.item\n",
    "\n",
    "        item[\"url\"] = url\n",
    "        if thumbnailUrl is not None:\n",
    "            item[\"thumbnailUrl\"] = thumbnailUrl\n",
    "\n",
    "\n",
    "\n",
    "class Part(Component):\n",
    "\n",
    "    def __init__(self, type):\n",
    "        item = {}\n",
    "        self.item = item\n",
    "        item[\"cpid\"] = \"a\"\n",
    "        item[\"type\"] = type\n",
    "\n",
    "    def insertText(self, lang, value):\n",
    "        '''\n",
    "        削除予定\n",
    "        '''\n",
    "        item = self.item\n",
    "\n",
    "        if lang not in item:\n",
    "            item[lang] = {\n",
    "                \"ops\": []\n",
    "            }\n",
    "\n",
    "        ops = item[lang][\"ops\"]\n",
    "        ops.append({\n",
    "            \"insert\": value\n",
    "        })\n",
    "        ops.append({\n",
    "            \"insert\": \"\\n\"\n",
    "        })\n",
    "\n",
    "    def addOps(self, key, lang, value):\n",
    "        '''\n",
    "        opsに要素を追加します。\n",
    "\n",
    "        Parameters:  \n",
    "        * `key` - title, description, etc...  \n",
    "        * `lang` - one of 言語, eg: 'ja', 'en', 'yomi'  \n",
    "        * `value` - 値\n",
    "        '''\n",
    "        item = self.item\n",
    "        if key not in item:\n",
    "            item[key] = {}\n",
    "\n",
    "        if lang not in item[key]:\n",
    "            item[key][lang] = {\n",
    "                \"ops\": []\n",
    "            }\n",
    "\n",
    "        ops = item[key][lang][\"ops\"]\n",
    "        ops.append({\n",
    "            \"insert\": value\n",
    "        })\n",
    "        ops.append({\n",
    "            \"insert\": \"\\n\"\n",
    "        })\n",
    "\n",
    "    def setMetadata(self, key, lang, value):\n",
    "        item = self.item\n",
    "        if key not in item:\n",
    "            item[key] = {}\n",
    "\n",
    "        # self.item[key] = value\n",
    "        item[key][lang] = value\n",
    "\n",
    "    def setUrl(self, url):\n",
    "        self.item[\"url\"] = url\n",
    "\n",
    "    def addPart(self, part):\n",
    "        self.item[\"parts\"].append(part.export())    \n",
    "\n",
    "    def setImage(self, image):\n",
    "        self.item[\"image\"] = image.export()\n",
    "\n",
    "class ListPart(Part):\n",
    "    '''\n",
    "    リストパーツ\n",
    "    '''\n",
    "    def __init__(self, viewType):\n",
    "        '''\n",
    "        初期化\n",
    "\n",
    "        Parameters:  \n",
    "        * `viewType` - レイアウト, eg: 'tile', 'table', etc...\n",
    "        '''\n",
    "        super().__init__(\"list\") # , viewType\n",
    "\n",
    "        item = self.item\n",
    "\n",
    "        item[\"viewType\"] = viewType\n",
    "\n",
    "        item[\"parts\"] = []\n",
    "\n",
    "class ListExternalLinkPart(Part):\n",
    "    '''\n",
    "    ListExternalLinkPart\n",
    "    '''\n",
    "    \n",
    "    def __init__(self):\n",
    "        '''\n",
    "        初期化\n",
    "        '''\n",
    "        super().__init__(\"jps-curation-list-external-link\")\n",
    "\n",
    "    \n",
    "    def setUrl(self, url):\n",
    "        '''\n",
    "        外部リンクのURLを設定します。\n",
    "\n",
    "        Parameters:  \n",
    "        * `url` - 外部リンクのURL\n",
    "        '''\n",
    "        self.item[\"url\"] = url\n",
    "\n",
    "class JPSGalleryClient(Component):\n",
    "\n",
    "    item = {\n",
    "        \"version\": 1,\n",
    "        \"seqNo\": 0,\n",
    "        \"primaryTerm\": 1,\n",
    "        \"curationType\": \"GALLERY\",\n",
    "        \"title\": {},\n",
    "        \"summary\": {},\n",
    "        \"responsibility\": {},\n",
    "        \"workspace\": \"abc\",\n",
    "        \"workspaceTags\": [],\n",
    "        \"permission\": {\n",
    "            \"publicationLevel\": \"WORKSPACE\",\n",
    "            \"level\": \"ADMIN\"\n",
    "        },\n",
    "        \"edit\": {\n",
    "            \"userId\": \"system\",\n",
    "            \"orgId\": \"jpsws\",\n",
    "            \"date\": 1663722096491,\n",
    "            \"action\": \"CREATE\"\n",
    "        },\n",
    "        \"parts\": []\n",
    "    }\n",
    "\n",
    "    def __init__(self):\n",
    "        self.item[\"id\"] = \"aaa\"\n",
    "\n",
    "    def setTitle(self, key, value):\n",
    "        self.item[\"title\"][key] = value\n",
    "\n",
    "    def setSummary(self, key, value):\n",
    "        self.item[\"summary\"][key] = value\n",
    "\n",
    "    \n",
    "\n",
    "    def addTag(self, tag):\n",
    "        '''\n",
    "        タグを追加します。\n",
    "\n",
    "        Parameters:  \n",
    "        * `tag` - タグ\n",
    "        '''\n",
    "        item = self.item\n",
    "        item[\"workspaceTags\"].append(tag)\n",
    "\n",
    "    def setImage(self, image):\n",
    "        self.item[\"image\"] = image.export()\n",
    "\n",
    "    def saveJsonl(self, path):\n",
    "        '''\n",
    "        JSONLファイルの保存\n",
    "\n",
    "        Parameters:  \n",
    "        * `path` - 出力先のパス\n",
    "        '''\n",
    "\n",
    "        arr = []\n",
    "        arr.append(json.dumps(self.item, ensure_ascii=False))\n",
    "\n",
    "        os.makedirs(os.path.dirname(path), exist_ok=True)\n",
    "        with open(path, mode='w') as f:\n",
    "            f.write(\"\\n\".join(arr))"
   ]
  },
  {
   "cell_type": "markdown",
   "metadata": {},
   "source": [
    "First import the JPSGalleryClient class.\n",
    "```\n",
    "from jps_gallery_tools.api import JPSGalleryClient\n",
    "```\n",
    "To initialise the JPSGalleryClient you need to provide the base url of your Omeka instance's API."
   ]
  },
  {
   "cell_type": "code",
   "execution_count": null,
   "metadata": {},
   "outputs": [],
   "source": [
    "gallery = JPSGalleryClient()"
   ]
  },
  {
   "cell_type": "markdown",
   "metadata": {},
   "source": [
    "## ギャラリーのメタデータの設定\n",
    "\n",
    "ギャラリーのメタデータを設定します。"
   ]
  },
  {
   "cell_type": "code",
   "execution_count": null,
   "metadata": {},
   "outputs": [
    {
     "data": {
      "text/markdown": [
       "---\n",
       "\n",
       "### Component.setMetadata\n",
       "\n",
       ">      Component.setMetadata (key, lang, value)\n",
       "\n",
       "メタデータの設定\n",
       "\n",
       "Parameters:  \n",
       "* `key` - title, description, etc...  \n",
       "* `lang` - one of 言語, eg: 'ja', 'en', 'yomi'  \n",
       "* `value` - 値"
      ],
      "text/plain": [
       "---\n",
       "\n",
       "### Component.setMetadata\n",
       "\n",
       ">      Component.setMetadata (key, lang, value)\n",
       "\n",
       "メタデータの設定\n",
       "\n",
       "Parameters:  \n",
       "* `key` - title, description, etc...  \n",
       "* `lang` - one of 言語, eg: 'ja', 'en', 'yomi'  \n",
       "* `value` - 値"
      ]
     },
     "execution_count": null,
     "metadata": {},
     "output_type": "execute_result"
    }
   ],
   "source": [
    "show_doc(JPSGalleryClient.setMetadata)"
   ]
  },
  {
   "cell_type": "markdown",
   "metadata": {},
   "source": [
    "タイトルの設定"
   ]
  },
  {
   "cell_type": "code",
   "execution_count": null,
   "metadata": {},
   "outputs": [],
   "source": [
    "gallery.setMetadata(\"title\", \"ja\", \"日本語タイトル\")\n",
    "gallery.setMetadata(\"title\", \"en\", \"English Title\")\n",
    "gallery.setMetadata(\"title\", \"yomi\", \"にほんごのよみ\")"
   ]
  },
  {
   "cell_type": "markdown",
   "metadata": {},
   "source": [
    "summaryの設定"
   ]
  },
  {
   "cell_type": "code",
   "execution_count": null,
   "metadata": {},
   "outputs": [],
   "source": [
    "gallery.setMetadata(\"summary\", \"ja\", \"日本語の概要文\")\n",
    "gallery.setMetadata(\"summary\", \"en\", \"English Summary\")"
   ]
  },
  {
   "cell_type": "markdown",
   "metadata": {},
   "source": [
    "responsibilityの設定"
   ]
  },
  {
   "cell_type": "code",
   "execution_count": null,
   "metadata": {},
   "outputs": [],
   "source": [
    "gallery.setMetadata(\"responsibility\", \"ja\", \"中村覚\")\n",
    "gallery.setMetadata(\"responsibility\", \"en\", \"Satoru Nakamura\")"
   ]
  },
  {
   "cell_type": "markdown",
   "metadata": {},
   "source": [
    "tagの設定"
   ]
  },
  {
   "cell_type": "code",
   "execution_count": null,
   "metadata": {},
   "outputs": [
    {
     "data": {
      "text/markdown": [
       "---\n",
       "\n",
       "### JPSGalleryClient.addTag\n",
       "\n",
       ">      JPSGalleryClient.addTag (tag)\n",
       "\n",
       "タグを追加します。\n",
       "\n",
       "Parameters:  \n",
       "* `tag` - タグ"
      ],
      "text/plain": [
       "---\n",
       "\n",
       "### JPSGalleryClient.addTag\n",
       "\n",
       ">      JPSGalleryClient.addTag (tag)\n",
       "\n",
       "タグを追加します。\n",
       "\n",
       "Parameters:  \n",
       "* `tag` - タグ"
      ]
     },
     "execution_count": null,
     "metadata": {},
     "output_type": "execute_result"
    }
   ],
   "source": [
    "show_doc(JPSGalleryClient.addTag)"
   ]
  },
  {
   "cell_type": "code",
   "execution_count": null,
   "metadata": {},
   "outputs": [],
   "source": [
    "gallery.addTag(\"はじめてのタグ\")\n",
    "gallery.addTag(\"二つ目のタグ\")"
   ]
  },
  {
   "cell_type": "markdown",
   "metadata": {},
   "source": [
    "画像の設定"
   ]
  },
  {
   "cell_type": "code",
   "execution_count": null,
   "metadata": {},
   "outputs": [
    {
     "data": {
      "text/markdown": [
       "---\n",
       "\n",
       "### UrlImage\n",
       "\n",
       ">      UrlImage (url, title, source, thumbnailUrl=None)\n",
       "\n",
       "URLを指定して表示する画像に関するクラス"
      ],
      "text/plain": [
       "---\n",
       "\n",
       "### UrlImage\n",
       "\n",
       ">      UrlImage (url, title, source, thumbnailUrl=None)\n",
       "\n",
       "URLを指定して表示する画像に関するクラス"
      ]
     },
     "execution_count": null,
     "metadata": {},
     "output_type": "execute_result"
    }
   ],
   "source": [
    "show_doc(UrlImage)"
   ]
  },
  {
   "cell_type": "code",
   "execution_count": null,
   "metadata": {},
   "outputs": [
    {
     "data": {
      "text/markdown": [
       "---\n",
       "\n",
       "### UrlImage.__init__\n",
       "\n",
       ">      UrlImage.__init__ (url, title, source, thumbnailUrl=None)\n",
       "\n",
       "初期化\n",
       "\n",
       "Parameters:  \n",
       "* `url` - 画像URL  \n",
       "* `title` - 日本語のタイトル  \n",
       "* `source` - 日本語の出典  \n",
       "* `thumbnailUrl` - サムネイルURL"
      ],
      "text/plain": [
       "---\n",
       "\n",
       "### UrlImage.__init__\n",
       "\n",
       ">      UrlImage.__init__ (url, title, source, thumbnailUrl=None)\n",
       "\n",
       "初期化\n",
       "\n",
       "Parameters:  \n",
       "* `url` - 画像URL  \n",
       "* `title` - 日本語のタイトル  \n",
       "* `source` - 日本語の出典  \n",
       "* `thumbnailUrl` - サムネイルURL"
      ]
     },
     "execution_count": null,
     "metadata": {},
     "output_type": "execute_result"
    }
   ],
   "source": [
    "show_doc(UrlImage.__init__)"
   ]
  },
  {
   "cell_type": "code",
   "execution_count": null,
   "metadata": {},
   "outputs": [],
   "source": [
    "original_url = \"https://blogger.googleusercontent.com/img/a/AVvXsEiTjjaWkCHeCslxeKujaQotjuR_HvhOHen7Ql7rQV8nmQl4ivLRF_CSabMY-JLJHNL-xHMe3VDyA9F-iv1RtQ2jFTk1Vnjck-veKLUZPdYqCcjzHkc8SGKb1fyZ_x8W66aTrSXQ78UN3CnyBakwwmmH_hmPKeEsTzq8J3e2zzUMylmDjCZ0LClPByBRRw=s400\"\n",
    "thumbnail_url = \"https://blogger.googleusercontent.com/img/a/AVvXsEiTjjaWkCHeCslxeKujaQotjuR_HvhOHen7Ql7rQV8nmQl4ivLRF_CSabMY-JLJHNL-xHMe3VDyA9F-iv1RtQ2jFTk1Vnjck-veKLUZPdYqCcjzHkc8SGKb1fyZ_x8W66aTrSXQ78UN3CnyBakwwmmH_hmPKeEsTzq8J3e2zzUMylmDjCZ0LClPByBRRw=s180-c\"\n",
    "title = \"初日の出のキャラクター\"\n",
    "source = \"いらすとや\"\n",
    "top_image = UrlImage(original_url, title, source, thumbnail_url)"
   ]
  },
  {
   "cell_type": "code",
   "execution_count": null,
   "metadata": {},
   "outputs": [
    {
     "data": {
      "text/markdown": [
       "---\n",
       "\n",
       "### JPSGalleryClient.setImage\n",
       "\n",
       ">      JPSGalleryClient.setImage (image)"
      ],
      "text/plain": [
       "---\n",
       "\n",
       "### JPSGalleryClient.setImage\n",
       "\n",
       ">      JPSGalleryClient.setImage (image)"
      ]
     },
     "execution_count": null,
     "metadata": {},
     "output_type": "execute_result"
    }
   ],
   "source": [
    "show_doc(JPSGalleryClient.setImage)"
   ]
  },
  {
   "cell_type": "code",
   "execution_count": null,
   "metadata": {},
   "outputs": [],
   "source": [
    "gallery.setImage(top_image)"
   ]
  },
  {
   "cell_type": "markdown",
   "metadata": {},
   "source": [
    "## パーツの追加"
   ]
  },
  {
   "cell_type": "code",
   "execution_count": null,
   "metadata": {},
   "outputs": [
    {
     "data": {
      "text/markdown": [
       "---\n",
       "\n",
       "### ListPart.__init__\n",
       "\n",
       ">      ListPart.__init__ (viewType)\n",
       "\n",
       "初期化\n",
       "\n",
       "Parameters:  \n",
       "* `viewType` - レイアウト, eg: 'tile', 'table', etc..."
      ],
      "text/plain": [
       "---\n",
       "\n",
       "### ListPart.__init__\n",
       "\n",
       ">      ListPart.__init__ (viewType)\n",
       "\n",
       "初期化\n",
       "\n",
       "Parameters:  \n",
       "* `viewType` - レイアウト, eg: 'tile', 'table', etc..."
      ]
     },
     "execution_count": null,
     "metadata": {},
     "output_type": "execute_result"
    }
   ],
   "source": [
    "show_doc(ListPart.__init__)"
   ]
  },
  {
   "cell_type": "code",
   "execution_count": null,
   "metadata": {},
   "outputs": [],
   "source": [
    "part = ListPart(\"tile\")"
   ]
  },
  {
   "cell_type": "markdown",
   "metadata": {},
   "source": [
    "メタデータの追加"
   ]
  },
  {
   "cell_type": "code",
   "execution_count": null,
   "metadata": {},
   "outputs": [],
   "source": [
    "part.setMetadata(\"title\", \"ja\", \"リストのタイトル\")\n",
    "part.setMetadata(\"title\", \"en\", \"List Title\")"
   ]
  },
  {
   "cell_type": "markdown",
   "metadata": {},
   "source": [
    "リストに画像の追加"
   ]
  },
  {
   "cell_type": "code",
   "execution_count": null,
   "metadata": {},
   "outputs": [],
   "source": [
    "item = ListExternalLinkPart()"
   ]
  },
  {
   "cell_type": "code",
   "execution_count": null,
   "metadata": {},
   "outputs": [
    {
     "data": {
      "text/markdown": [
       "---\n",
       "\n",
       "### ListExternalLinkPart.setUrl\n",
       "\n",
       ">      ListExternalLinkPart.setUrl (url)\n",
       "\n",
       "外部リンクのURLを設定します。\n",
       "\n",
       "Parameters:  \n",
       "* `url` - 外部リンクのURL"
      ],
      "text/plain": [
       "---\n",
       "\n",
       "### ListExternalLinkPart.setUrl\n",
       "\n",
       ">      ListExternalLinkPart.setUrl (url)\n",
       "\n",
       "外部リンクのURLを設定します。\n",
       "\n",
       "Parameters:  \n",
       "* `url` - 外部リンクのURL"
      ]
     },
     "execution_count": null,
     "metadata": {},
     "output_type": "execute_result"
    }
   ],
   "source": [
    "show_doc(ListExternalLinkPart.setUrl)"
   ]
  },
  {
   "cell_type": "code",
   "execution_count": null,
   "metadata": {},
   "outputs": [],
   "source": [
    "item.setUrl(\"https://www.irasutoya.com/2021/11/blog-post_91.html\")"
   ]
  },
  {
   "cell_type": "markdown",
   "metadata": {},
   "source": [
    "アイテムの追加"
   ]
  },
  {
   "cell_type": "code",
   "execution_count": null,
   "metadata": {},
   "outputs": [
    {
     "data": {
      "text/markdown": [
       "---\n",
       "\n",
       "### Part.addPart\n",
       "\n",
       ">      Part.addPart (part)"
      ],
      "text/plain": [
       "---\n",
       "\n",
       "### Part.addPart\n",
       "\n",
       ">      Part.addPart (part)"
      ]
     },
     "execution_count": null,
     "metadata": {},
     "output_type": "execute_result"
    }
   ],
   "source": [
    "show_doc(ListPart.addPart)"
   ]
  },
  {
   "cell_type": "code",
   "execution_count": null,
   "metadata": {},
   "outputs": [],
   "source": [
    "part.addPart(item)"
   ]
  },
  {
   "cell_type": "code",
   "execution_count": null,
   "metadata": {},
   "outputs": [
    {
     "name": "stdout",
     "output_type": "stream",
     "text": [
      "{'cpid': 'a',\n",
      " 'parts': [{'cpid': 'a',\n",
      "            'type': 'jps-curation-list-external-link',\n",
      "            'url': 'https://www.irasutoya.com/2021/11/blog-post_91.html'}],\n",
      " 'title': {'en': 'List Title', 'ja': 'リストのタイトル'},\n",
      " 'type': 'list',\n",
      " 'viewType': 'tile'}\n"
     ]
    }
   ],
   "source": [
    "pprint(part.item)"
   ]
  },
  {
   "cell_type": "markdown",
   "metadata": {},
   "source": [
    "## Save json\n",
    "\n",
    "設定した内容をjsonファイルに出力します。"
   ]
  },
  {
   "cell_type": "code",
   "execution_count": null,
   "metadata": {},
   "outputs": [
    {
     "data": {
      "text/markdown": [
       "---\n",
       "\n",
       "### Component.save\n",
       "\n",
       ">      Component.save (path)\n",
       "\n",
       "JSONファイルの保存\n",
       "\n",
       "Parameters:  \n",
       "* `path` - 出力先のパス"
      ],
      "text/plain": [
       "---\n",
       "\n",
       "### Component.save\n",
       "\n",
       ">      Component.save (path)\n",
       "\n",
       "JSONファイルの保存\n",
       "\n",
       "Parameters:  \n",
       "* `path` - 出力先のパス"
      ]
     },
     "execution_count": null,
     "metadata": {},
     "output_type": "execute_result"
    }
   ],
   "source": [
    "show_doc(JPSGalleryClient.save)"
   ]
  },
  {
   "cell_type": "code",
   "execution_count": null,
   "metadata": {},
   "outputs": [],
   "source": [
    "gallery.save(\"tmp/gallery.json\")"
   ]
  },
  {
   "cell_type": "code",
   "execution_count": null,
   "metadata": {},
   "outputs": [
    {
     "data": {
      "text/markdown": [
       "---\n",
       "\n",
       "### JPSGalleryClient.saveJsonl\n",
       "\n",
       ">      JPSGalleryClient.saveJsonl (path)\n",
       "\n",
       "JSONLファイルの保存\n",
       "\n",
       "Parameters:  \n",
       "* `path` - 出力先のパス"
      ],
      "text/plain": [
       "---\n",
       "\n",
       "### JPSGalleryClient.saveJsonl\n",
       "\n",
       ">      JPSGalleryClient.saveJsonl (path)\n",
       "\n",
       "JSONLファイルの保存\n",
       "\n",
       "Parameters:  \n",
       "* `path` - 出力先のパス"
      ]
     },
     "execution_count": null,
     "metadata": {},
     "output_type": "execute_result"
    }
   ],
   "source": [
    "show_doc(JPSGalleryClient.saveJsonl)"
   ]
  },
  {
   "cell_type": "code",
   "execution_count": null,
   "metadata": {},
   "outputs": [],
   "source": [
    "gallery.saveJsonl(\"tmp/gallery.jsonl\")"
   ]
  },
  {
   "cell_type": "code",
   "execution_count": null,
   "metadata": {},
   "outputs": [],
   "source": [
    "#| hide\n",
    "import nbdev; nbdev.nbdev_export()"
   ]
  }
 ],
 "metadata": {
  "kernelspec": {
   "display_name": "Python 3.9.12 ('base')",
   "language": "python",
   "name": "python3"
  }
 },
 "nbformat": 4,
 "nbformat_minor": 4
}
