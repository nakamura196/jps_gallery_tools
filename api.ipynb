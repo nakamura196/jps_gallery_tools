{
 "cells": [
  {
   "cell_type": "markdown",
   "metadata": {},
   "source": [
    "# Japan Search Gallery client\n",
    "\n",
    "> Tools to interact with the Japan Search Gallery"
   ]
  },
  {
   "cell_type": "code",
   "execution_count": null,
   "metadata": {},
   "outputs": [],
   "source": [
    "#| default_exp api"
   ]
  },
  {
   "cell_type": "code",
   "execution_count": null,
   "metadata": {},
   "outputs": [],
   "source": [
    "#| hide\n",
    "from nbdev.showdoc import *"
   ]
  },
  {
   "cell_type": "code",
   "execution_count": null,
   "metadata": {},
   "outputs": [],
   "source": [
    "#| export\n",
    "from pprint import pprint\n",
    "import os\n",
    "import json\n",
    "\n",
    "class Component:\n",
    "    \n",
    "    def export(self):\n",
    "        '''\n",
    "        エクスポート\n",
    "\n",
    "        Returns:\n",
    "        * dict containing representation of the gallery\n",
    "        '''\n",
    "        return self.item\n",
    "\n",
    "    def setMetadata(self, key, lang, value):\n",
    "        '''\n",
    "        メタデータの設定\n",
    "\n",
    "        Parameters:\n",
    "        * `key` - title, description, etc...\n",
    "        * `lang` - one of 言語, eg: 'ja', 'en', 'yomi'\n",
    "        * `value` - 値\n",
    "        '''\n",
    "        g = self.g\n",
    "        if key not in g:\n",
    "            g[key] = {}\n",
    "        g[key][lang] = value\n",
    "\n",
    "\n",
    "    def save(self, path):\n",
    "        '''\n",
    "        JSONファイルの保存\n",
    "\n",
    "        Parameters:\n",
    "        * `path` - 出力先のパス\n",
    "        '''\n",
    "        os.makedirs(os.path.dirname(path), exist_ok=True)\n",
    "        with open(path, 'w') as f:\n",
    "            json.dump(self.g, f, ensure_ascii=False, indent=2)\n",
    "\n",
    "class Media(Component):\n",
    "\n",
    "    def __init__(self, type, title, source):\n",
    "        self.item = {\n",
    "            \"imgType\": type,\n",
    "            \"title\": {\n",
    "                \"ja\": title\n",
    "            },\n",
    "            \"source\": {\n",
    "                \"ja\": source\n",
    "            },\n",
    "            \"contentsRightsType\": \"incr\",\n",
    "        }\n",
    "\n",
    "class IIIF(Media):\n",
    "    def __init__(self, manifestUrl, infoJsonUrl, title, source):\n",
    "        super().__init__(\"IIIF\", title, source)\n",
    "\n",
    "        item = self.item\n",
    "        item[\"cover\"] = None\n",
    "        item[\"sourceUrl\"] = None\n",
    "        item[\"manifestUrl\"] = manifestUrl\n",
    "        item[\"infoJsonUrl\"] = infoJsonUrl\n",
    "\n",
    "class UrlImage(Media):\n",
    "\n",
    "    def __init__(self, url, title, source, thumbnailUrl=None):\n",
    "        super().__init__(\"URL\", title, source)\n",
    "\n",
    "        item = self.item\n",
    "\n",
    "        item[\"url\"] = url\n",
    "        if thumbnailUrl is not None:\n",
    "            item[\"thumbnailUrl\"] = thumbnailUrl\n",
    "\n",
    "class Part(Component):\n",
    "\n",
    "    configType = {\n",
    "        \"text\": \"jps-curation-text\",\n",
    "        \"list\": \"jps-curation-list\",\n",
    "    }\n",
    "\n",
    "    def __init__(self, type, viewType=None):\n",
    "        item = {}\n",
    "        self.item = item\n",
    "        item[\"cpid\"] = \"a\"\n",
    "\n",
    "        configType = self.configType\n",
    "\n",
    "        type = configType[type] if type in configType else type\n",
    "        item[\"type\"] = type\n",
    "        \n",
    "        if type == \"jps-curation-list\":\n",
    "\n",
    "            if viewType:\n",
    "                item[\"viewType\"] = viewType\n",
    "\n",
    "            item[\"parts\"] = []\n",
    "\n",
    "    def insertText(self, lang, value):\n",
    "        '''\n",
    "        削除予定\n",
    "        '''\n",
    "        item = self.item\n",
    "\n",
    "        if lang not in item:\n",
    "            item[lang] = {\n",
    "                \"ops\": []\n",
    "            }\n",
    "\n",
    "        ops = item[lang][\"ops\"]\n",
    "        ops.append({\n",
    "            \"insert\": value\n",
    "        })\n",
    "        ops.append({\n",
    "            \"insert\": \"\\n\"\n",
    "        })\n",
    "\n",
    "    def addOps(self, key, lang, value):\n",
    "        '''\n",
    "        opsに要素を追加します。\n",
    "\n",
    "        Parameters:\n",
    "        * `key` - title, description, etc...\n",
    "        * `lang` - one of 言語, eg: 'ja', 'en', 'yomi'\n",
    "        * `value` - 値\n",
    "        '''\n",
    "        item = self.item\n",
    "        if key not in item:\n",
    "            item[key] = {}\n",
    "\n",
    "        if lang not in item[key]:\n",
    "            item[key][lang] = {\n",
    "                \"ops\": []\n",
    "            }\n",
    "\n",
    "        ops = item[key][lang][\"ops\"]\n",
    "        ops.append({\n",
    "            \"insert\": value\n",
    "        })\n",
    "        ops.append({\n",
    "            \"insert\": \"\\n\"\n",
    "        })\n",
    "\n",
    "    def setMetadata(self, key, lang, value):\n",
    "        item = self.item\n",
    "        if key not in item:\n",
    "            item[key] = {}\n",
    "\n",
    "        # self.item[key] = value\n",
    "        item[key][lang] = value\n",
    "\n",
    "    def setUrl(self, url):\n",
    "        self.item[\"url\"] = url\n",
    "\n",
    "    def addPart(self, part):\n",
    "        self.item[\"parts\"].append(part.export())    \n",
    "\n",
    "    def setImage(self, image):\n",
    "        self.item[\"image\"] = image.export()\n",
    "\n",
    "class JPSGalleryClient(Component):\n",
    "\n",
    "    g = {\n",
    "        \"version\": 1,\n",
    "        \"seqNo\": 0,\n",
    "        \"primaryTerm\": 1,\n",
    "        \"curationType\": \"GALLERY\",\n",
    "        \"title\": {},\n",
    "        \"summary\": {},\n",
    "        \"responsibility\": {},\n",
    "        \"workspace\": \"abc\",\n",
    "        \"workspaceTags\": [],\n",
    "        \"permission\": {\n",
    "            \"publicationLevel\": \"WORKSPACE\",\n",
    "            \"level\": \"ADMIN\"\n",
    "        },\n",
    "        \"edit\": {\n",
    "            \"userId\": \"system\",\n",
    "            \"orgId\": \"jpsws\",\n",
    "            \"date\": 1663722096491,\n",
    "            \"action\": \"CREATE\"\n",
    "        },\n",
    "        \"parts\": []\n",
    "    }\n",
    "\n",
    "    def __init__(self):\n",
    "        self.g[\"id\"] = \"aaa\"\n",
    "\n",
    "    def setTitle(self, key, value):\n",
    "        self.g[\"title\"][key] = value\n",
    "\n",
    "    def setSummary(self, key, value):\n",
    "        self.g[\"summary\"][key] = value\n",
    "\n",
    "    \n",
    "\n",
    "    def setTag(self, tag):\n",
    "        g = self.g\n",
    "        g[\"workspaceTags\"].append(tag)\n",
    "\n",
    "    def setImage(self, image):\n",
    "        self.g[\"image\"] = image.export()"
   ]
  },
  {
   "cell_type": "markdown",
   "metadata": {},
   "source": [
    "First import the JPSGalleryClient class.\n",
    "```\n",
    "from jps_gallery_tools.api import JPSGalleryClient\n",
    "```\n",
    "To initialise the JPSGalleryClient you need to provide the base url of your Omeka instance's API."
   ]
  },
  {
   "cell_type": "code",
   "execution_count": null,
   "metadata": {},
   "outputs": [],
   "source": [
    "gallery = JPSGalleryClient()"
   ]
  },
  {
   "cell_type": "markdown",
   "metadata": {},
   "source": [
    "## ギャラリーのメタデータの設定\n",
    "\n",
    "ギャラリーのメタデータを設定します。"
   ]
  },
  {
   "cell_type": "code",
   "execution_count": null,
   "metadata": {},
   "outputs": [
    {
     "data": {
      "text/markdown": [
       "---\n",
       "\n",
       "### Component.setMetadata\n",
       "\n",
       ">      Component.setMetadata (key, lang, value)\n",
       "\n",
       "メタデータの設定\n",
       "\n",
       "Parameters:\n",
       "* `key` - title, description, etc...\n",
       "* `lang` - one of 言語, eg: 'ja', 'en', 'yomi'\n",
       "* `value` - 値"
      ],
      "text/plain": [
       "---\n",
       "\n",
       "### Component.setMetadata\n",
       "\n",
       ">      Component.setMetadata (key, lang, value)\n",
       "\n",
       "メタデータの設定\n",
       "\n",
       "Parameters:\n",
       "* `key` - title, description, etc...\n",
       "* `lang` - one of 言語, eg: 'ja', 'en', 'yomi'\n",
       "* `value` - 値"
      ]
     },
     "execution_count": null,
     "metadata": {},
     "output_type": "execute_result"
    }
   ],
   "source": [
    "show_doc(JPSGalleryClient.setMetadata)"
   ]
  },
  {
   "cell_type": "markdown",
   "metadata": {},
   "source": [
    "タイトルの設定"
   ]
  },
  {
   "cell_type": "code",
   "execution_count": null,
   "metadata": {},
   "outputs": [],
   "source": [
    "gallery.setMetadata(\"title\", \"ja\", \"日本語タイトル\")\n",
    "gallery.setMetadata(\"title\", \"en\", \"English Title\")\n",
    "gallery.setMetadata(\"title\", \"yomi\", \"にほんごのよみ\")"
   ]
  },
  {
   "cell_type": "markdown",
   "metadata": {},
   "source": [
    "summaryの設定"
   ]
  },
  {
   "cell_type": "code",
   "execution_count": null,
   "metadata": {},
   "outputs": [],
   "source": [
    "gallery.setMetadata(\"summary\", \"ja\", \"日本語の概要文\")\n",
    "gallery.setMetadata(\"summary\", \"en\", \"English Summary\")"
   ]
  },
  {
   "cell_type": "markdown",
   "metadata": {},
   "source": [
    "## Save json\n",
    "\n",
    "設定した内容をjsonファイルに出力します。"
   ]
  },
  {
   "cell_type": "code",
   "execution_count": null,
   "metadata": {},
   "outputs": [
    {
     "data": {
      "text/markdown": [
       "---\n",
       "\n",
       "### JPSGalleryClient.save\n",
       "\n",
       ">      JPSGalleryClient.save (path)"
      ],
      "text/plain": [
       "---\n",
       "\n",
       "### JPSGalleryClient.save\n",
       "\n",
       ">      JPSGalleryClient.save (path)"
      ]
     },
     "execution_count": null,
     "metadata": {},
     "output_type": "execute_result"
    }
   ],
   "source": [
    "show_doc(JPSGalleryClient.save)"
   ]
  },
  {
   "cell_type": "code",
   "execution_count": null,
   "metadata": {},
   "outputs": [],
   "source": [
    "gallery.save(\"tmp/gallery.json\")"
   ]
  },
  {
   "cell_type": "code",
   "execution_count": null,
   "metadata": {},
   "outputs": [],
   "source": [
    "#| hide\n",
    "import nbdev; nbdev.nbdev_export()"
   ]
  }
 ],
 "metadata": {
  "kernelspec": {
   "display_name": "Python 3.9.12 ('base')",
   "language": "python",
   "name": "python3"
  }
 },
 "nbformat": 4,
 "nbformat_minor": 4
}
