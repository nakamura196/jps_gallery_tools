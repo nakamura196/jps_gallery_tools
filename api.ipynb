{
 "cells": [
  {
   "cell_type": "markdown",
   "metadata": {},
   "source": [
    "# Japan Search Gallery client\n",
    "\n",
    "> Tools to interact with the Japan Search Gallery"
   ]
  },
  {
   "cell_type": "code",
   "execution_count": null,
   "metadata": {},
   "outputs": [],
   "source": [
    "#| default_exp api"
   ]
  },
  {
   "cell_type": "code",
   "execution_count": null,
   "metadata": {},
   "outputs": [],
   "source": [
    "#| hide\n",
    "from nbdev.showdoc import *"
   ]
  },
  {
   "cell_type": "code",
   "execution_count": null,
   "metadata": {},
   "outputs": [],
   "source": [
    "#| export\n",
    "from pprint import pprint\n",
    "class JPSGalleryClient(object):\n",
    "    def __init__(self, api_url, key_identity=None, key_credential=None, use_cache=True):\n",
    "        self.api_url = api_url\n",
    "        self.params = {\n",
    "            'key_identity': key_identity,\n",
    "            'key_credential': key_credential\n",
    "        }\n",
    "\n",
    "    def show(self):\n",
    "        pprint(self.params)"
   ]
  },
  {
   "cell_type": "markdown",
   "metadata": {},
   "source": [
    "First import the JPSGalleryClient class.\n",
    "```\n",
    "from jps_gallery_tools.api import JPSGalleryClient\n",
    "```\n",
    "To initialise the JPSGalleryClient you need to provide the base url of your Omeka instance's API."
   ]
  },
  {
   "cell_type": "code",
   "execution_count": null,
   "metadata": {},
   "outputs": [],
   "source": [
    "jps = JPSGalleryClient('http://timsherratt.org/collections/api')"
   ]
  },
  {
   "cell_type": "code",
   "execution_count": null,
   "metadata": {},
   "outputs": [
    {
     "name": "stdout",
     "output_type": "stream",
     "text": [
      "{'key_credential': None, 'key_identity': None}\n"
     ]
    }
   ],
   "source": [
    "jps.show()"
   ]
  },
  {
   "cell_type": "markdown",
   "metadata": {},
   "source": [
    "## Adding items\n",
    "\n",
    "To add resources to Omeka you need authenticate your API requests by supplying `key_identity` and `key_credential` tokens as parameters."
   ]
  },
  {
   "cell_type": "code",
   "execution_count": null,
   "metadata": {},
   "outputs": [],
   "source": [
    "#| hide\n",
    "import nbdev; nbdev.nbdev_export()"
   ]
  }
 ],
 "metadata": {
  "kernelspec": {
   "display_name": "Python 3.10.6 64-bit",
   "language": "python",
   "name": "python3"
  }
 },
 "nbformat": 4,
 "nbformat_minor": 4
}
