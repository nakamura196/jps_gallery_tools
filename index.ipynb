{
 "cells": [
  {
   "cell_type": "code",
   "execution_count": null,
   "metadata": {},
   "outputs": [],
   "source": [
    "import importlib\n",
    "# import jps_gallery_tools\n",
    "from jps_gallery_tools import api\n",
    "# importlib.reload(jps_gallery_tools)\n",
    "importlib.reload(api)\n",
    "\n",
    "#| hide\n",
    "from jps_gallery_tools.api import *"
   ]
  },
  {
   "cell_type": "markdown",
   "metadata": {},
   "source": [
    "# Japan Search Gallery Tools\n",
    "\n",
    "> Tools for working with Japan Search Gallery"
   ]
  },
  {
   "cell_type": "markdown",
   "metadata": {},
   "source": [
    "## Install"
   ]
  },
  {
   "cell_type": "markdown",
   "metadata": {},
   "source": [
    "```sh\n",
    "pip install jps_gallery_tools\n",
    "```"
   ]
  },
  {
   "cell_type": "markdown",
   "metadata": {},
   "source": [
    "## How to use"
   ]
  },
  {
   "cell_type": "markdown",
   "metadata": {},
   "source": [
    "[See the documentation](https://nakamura196.github.io/jps_gallery_tools/api.html) for full details of the Japan Search Gallery API Client."
   ]
  },
  {
   "cell_type": "code",
   "execution_count": null,
   "metadata": {},
   "outputs": [],
   "source": [
    "from jps_gallery_tools.api import JPSGalleryClient\n",
    "gallery = JPSGalleryClient()"
   ]
  },
  {
   "cell_type": "code",
   "execution_count": null,
   "metadata": {},
   "outputs": [],
   "source": [
    "gallery.setMetadata('title', 'ja', '日本語タイトル')\n",
    "gallery.setMetadata('summary', 'ja', '日本語の概要')"
   ]
  },
  {
   "cell_type": "code",
   "execution_count": null,
   "metadata": {},
   "outputs": [
    {
     "name": "stdout",
     "output_type": "stream",
     "text": [
      "{'curationType': 'GALLERY',\n",
      " 'edit': {'action': 'CREATE',\n",
      "          'date': 1663722096491,\n",
      "          'orgId': 'jpsws',\n",
      "          'userId': 'system'},\n",
      " 'id': 'aaa',\n",
      " 'parts': [],\n",
      " 'permission': {'level': 'ADMIN', 'publicationLevel': 'WORKSPACE'},\n",
      " 'primaryTerm': 1,\n",
      " 'responsibility': {},\n",
      " 'seqNo': 0,\n",
      " 'summary': {},\n",
      " 'title': {'ja': '日本語タイトル'},\n",
      " 'version': 1,\n",
      " 'workspace': 'abc',\n",
      " 'workspaceTags': []}\n"
     ]
    }
   ],
   "source": [
    "from pprint import pprint\n",
    "pprint(gallery.export())"
   ]
  }
 ],
 "metadata": {
  "kernelspec": {
   "display_name": "Python 3.10.6 64-bit",
   "language": "python",
   "name": "python3"
  }
 },
 "nbformat": 4,
 "nbformat_minor": 4
}
