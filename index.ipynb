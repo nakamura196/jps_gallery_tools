{
 "cells": [
  {
   "cell_type": "code",
   "execution_count": 217,
   "metadata": {},
   "outputs": [
    {
     "name": "stdout",
     "output_type": "stream",
     "text": [
      "The autoreload extension is already loaded. To reload it, use:\n",
      "  %reload_ext autoreload\n"
     ]
    }
   ],
   "source": [
    "#| hide\n",
    "%load_ext autoreload\n",
    "%autoreload 2"
   ]
  },
  {
   "attachments": {},
   "cell_type": "markdown",
   "metadata": {},
   "source": [
    "# Japan Search Gallery Tools\n",
    "\n",
    "> Tools for working with Japan Search Gallery\n"
   ]
  },
  {
   "attachments": {},
   "cell_type": "markdown",
   "metadata": {},
   "source": [
    "## Install"
   ]
  },
  {
   "attachments": {},
   "cell_type": "markdown",
   "metadata": {},
   "source": [
    "```sh\n",
    "pip install jps_gallery_tools\n",
    "```"
   ]
  },
  {
   "attachments": {},
   "cell_type": "markdown",
   "metadata": {},
   "source": [
    "## 実行例\n",
    "\n",
    "[GoogleColabのノートブック](https://colab.research.google.com/github/nakamura196/ndl_ocr/blob/main/%E3%82%B8%E3%83%A3%E3%83%91%E3%83%B3%E3%82%B5%E3%83%BC%E3%83%81%E3%81%AE%E3%82%AE%E3%83%A3%E3%83%A9%E3%83%AA%E3%83%BC%E4%BD%9C%E6%88%90.ipynb)"
   ]
  },
  {
   "attachments": {},
   "cell_type": "markdown",
   "metadata": {},
   "source": [
    "## How to use\n"
   ]
  },
  {
   "attachments": {},
   "cell_type": "markdown",
   "metadata": {},
   "source": [
    "[See the documentation](https://nakamura196.github.io/jps_gallery_tools/api.html) for full details of the Japan Search Gallery API Client.\n"
   ]
  },
  {
   "attachments": {},
   "cell_type": "markdown",
   "metadata": {},
   "source": [
    "### ギャラリーの作成"
   ]
  },
  {
   "cell_type": "code",
   "execution_count": 218,
   "metadata": {},
   "outputs": [],
   "source": [
    "from jps_gallery_tools.api import *\n",
    "gallery = JpsCuration()"
   ]
  },
  {
   "cell_type": "code",
   "execution_count": 219,
   "metadata": {},
   "outputs": [],
   "source": [
    "gallery.setLangMetadata('title', 'ja', 'はじめてのギャラリー')\n",
    "gallery.setLangMetadata('summary', 'ja', 'はじめてのギャラリーを作成します。')\n",
    "gallery.setLangMetadata(\"responsibility\", \"ja\", \"中村覚\")\n",
    "gallery.addTag(\"はじめて\")\n",
    "gallery.addTag(\"テスト\")\n"
   ]
  },
  {
   "attachments": {},
   "cell_type": "markdown",
   "metadata": {},
   "source": [
    "トップ画像\n"
   ]
  },
  {
   "cell_type": "code",
   "execution_count": 220,
   "metadata": {},
   "outputs": [],
   "source": [
    "original_url = \"https://blogger.googleusercontent.com/img/a/AVvXsEiTjjaWkCHeCslxeKujaQotjuR_HvhOHen7Ql7rQV8nmQl4ivLRF_CSabMY-JLJHNL-xHMe3VDyA9F-iv1RtQ2jFTk1Vnjck-veKLUZPdYqCcjzHkc8SGKb1fyZ_x8W66aTrSXQ78UN3CnyBakwwmmH_hmPKeEsTzq8J3e2zzUMylmDjCZ0LClPByBRRw=s400\"\n",
    "thumbnail_url = \"https://blogger.googleusercontent.com/img/a/AVvXsEiTjjaWkCHeCslxeKujaQotjuR_HvhOHen7Ql7rQV8nmQl4ivLRF_CSabMY-JLJHNL-xHMe3VDyA9F-iv1RtQ2jFTk1Vnjck-veKLUZPdYqCcjzHkc8SGKb1fyZ_x8W66aTrSXQ78UN3CnyBakwwmmH_hmPKeEsTzq8J3e2zzUMylmDjCZ0LClPByBRRw=s180-c\"\n",
    "title = \"初日の出のキャラクター\"\n",
    "source = \"いらすとや\"\n",
    "top_image = JpsCurationUrlImage(original_url, title, source, thumbnail_url)\n",
    "gallery.setImage(top_image)\n"
   ]
  },
  {
   "attachments": {},
   "cell_type": "markdown",
   "metadata": {},
   "source": [
    "### テキスト"
   ]
  },
  {
   "cell_type": "code",
   "execution_count": 221,
   "metadata": {},
   "outputs": [],
   "source": [
    "part_01= JpsCurationText()\n",
    "gallery.addPart(part_01)\n",
    "part_01.addText(\"ja\", \"テキスト。テキスト。テキスト。テキスト。\")"
   ]
  },
  {
   "attachments": {},
   "cell_type": "markdown",
   "metadata": {},
   "source": [
    "### リスト"
   ]
  },
  {
   "cell_type": "code",
   "execution_count": 222,
   "metadata": {},
   "outputs": [],
   "source": [
    "part_02 = JpsCurationList(\"tile\")\n",
    "part_02.setLangMetadata(\"title\", \"ja\", \"リストのタイトル\")\n",
    "part_02.setLangMetadata(\"title\", \"en\", \"List Title\")\n",
    "gallery.addPart(part_02)\n"
   ]
  },
  {
   "attachments": {},
   "cell_type": "markdown",
   "metadata": {},
   "source": [
    "4件の画像を追加"
   ]
  },
  {
   "cell_type": "code",
   "execution_count": 223,
   "metadata": {},
   "outputs": [],
   "source": [
    "for i in range(4):\n",
    "    item = JpsCurationListExternalLink()\n",
    "    part_02.addPart(item)\n",
    "    item.setLangMetadata(\"title\", \"ja\", \"外部リンクのタイトル\")\n",
    "    item.setImage(top_image)\n"
   ]
  },
  {
   "attachments": {},
   "cell_type": "markdown",
   "metadata": {},
   "source": [
    "### 年表\n"
   ]
  },
  {
   "cell_type": "code",
   "execution_count": 224,
   "metadata": {},
   "outputs": [],
   "source": [
    "part_03 = JpsCurationTimeline(1800, 2050)\n",
    "gallery.addPart(part_03)\n",
    "part_03.setLangMetadata(\"title\", \"ja\", \"年表のタイトル\")\n",
    "part_03.setLangMetadata(\"title\", \"en\", \"Timeline Title\")\n"
   ]
  },
  {
   "cell_type": "code",
   "execution_count": 225,
   "metadata": {},
   "outputs": [],
   "source": [
    "part_03_01 = JpsCurationTimepoint(\"時点のタイトル\", \"Timepoint Title\", 1877, 1877)\n",
    "part_03.addPart(part_03_01)\n"
   ]
  },
  {
   "cell_type": "code",
   "execution_count": 226,
   "metadata": {},
   "outputs": [],
   "source": [
    "part_03_01_01 = JpsCurationText()\n",
    "part_03_01.addPart(part_03_01_01)\n",
    "part_03_01_01.addText(\"ja\", \"時点のテキスト。時点のテキスト。時点のテキスト。時点のテキスト。\")"
   ]
  },
  {
   "attachments": {},
   "cell_type": "markdown",
   "metadata": {},
   "source": [
    "### 地図"
   ]
  },
  {
   "cell_type": "code",
   "execution_count": 227,
   "metadata": {},
   "outputs": [],
   "source": [
    "part_04 = JpsCurationList(\"map\")\n",
    "gallery.addPart(part_04)\n",
    "part_04.setLangMetadata(\"title\", \"ja\", \"地図のタイトル\")\n",
    "part_04.setLangMetadata(\"title\", \"en\", \"Map Title\")\n",
    "\n",
    "part_04.setMetadata(\"openActionType\", \"link\")\n",
    "part_04.setMetadata(\"mapParam\", {\n",
    "    \"center\": {\n",
    "        \"lat\": 35.713736762125464,\n",
    "        \"lon\": 139.76272050237696\n",
    "    },\n",
    "    \"zoom\": 15,\n",
    "    \"mode\": \"NORMAL\"\n",
    "})\n"
   ]
  },
  {
   "cell_type": "code",
   "execution_count": 228,
   "metadata": {},
   "outputs": [],
   "source": [
    "import copy\n",
    "from pprint import pprint\n",
    "\n",
    "item_04_01 = copy.copy(item)\n",
    "\n",
    "item_04_01.setMetadata(\"latlon\", {\n",
    "    \"lat\": 35.713333,\n",
    "    \"lon\": 139.762222\n",
    "})\n",
    "part_04.addPart(item_04_01)"
   ]
  },
  {
   "attachments": {},
   "cell_type": "markdown",
   "metadata": {},
   "source": [
    "### 出力\n"
   ]
  },
  {
   "cell_type": "code",
   "execution_count": 229,
   "metadata": {},
   "outputs": [],
   "source": [
    "gallery.save(\"tmp/gallery.json\")\n"
   ]
  },
  {
   "cell_type": "code",
   "execution_count": 230,
   "metadata": {},
   "outputs": [],
   "source": [
    "b = gallery.encode(curationType=\"GALLERY\")\n"
   ]
  },
  {
   "cell_type": "code",
   "execution_count": 231,
   "metadata": {},
   "outputs": [
    {
     "data": {
      "text/html": [
       "<div\n",
       "        class=\"jps\"\n",
       "        data-lang=\"ja\"\n",
       "        data-cur=\"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\">\n",
       "</div>\n",
       "<script src=\"https://jpsearch.go.jp/assets/js/wp.bundle.js\"></script>\n"
      ],
      "text/plain": [
       "<IPython.core.display.HTML object>"
      ]
     },
     "metadata": {},
     "output_type": "display_data"
    }
   ],
   "source": [
    "import IPython\n",
    "from IPython.display import display, HTML\n",
    "\n",
    "lang = \"ja\"\n",
    " \n",
    "htm = HTML(f'''\\\n",
    "<div\n",
    "        class=\"jps\"\n",
    "        data-lang=\"{lang}\"\n",
    "        data-cur=\"{b}\">\n",
    "</div>\n",
    "<script src=\"https://jpsearch.go.jp/assets/js/wp.bundle.js\"></script>\n",
    "''')\n",
    " \n",
    "display(htm)"
   ]
  }
 ],
 "metadata": {
  "kernelspec": {
   "display_name": "Python 3",
   "language": "python",
   "name": "python3"
  },
  "language_info": {
   "codemirror_mode": {
    "name": "ipython",
    "version": 3
   },
   "file_extension": ".py",
   "mimetype": "text/x-python",
   "name": "python",
   "nbconvert_exporter": "python",
   "pygments_lexer": "ipython3",
   "version": "3.9.12"
  },
  "vscode": {
   "interpreter": {
    "hash": "b835ebd1de181952a98845715e8eba418a34411a053b7739bf494afe420820a7"
   }
  }
 },
 "nbformat": 4,
 "nbformat_minor": 4
}
